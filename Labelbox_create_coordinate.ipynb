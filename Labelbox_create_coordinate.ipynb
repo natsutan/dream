{
  "nbformat": 4,
  "nbformat_minor": 0,
  "metadata": {
    "colab": {
      "name": "Labelbox_create_coordinate.ipynb",
      "provenance": [],
      "collapsed_sections": []
    },
    "kernelspec": {
      "name": "python3",
      "display_name": "Python 3"
    },
    "accelerator": "GPU"
  },
  "cells": [
    {
      "cell_type": "code",
      "metadata": {
        "id": "tm25Ur8byZUJ",
        "colab_type": "code",
        "outputId": "63681668-03a2-4813-8294-7a1af9c30510",
        "colab": {
          "base_uri": "https://localhost:8080/",
          "height": 122
        }
      },
      "source": [
        "# 予めやっておくこと\n",
        "# GPUで動き設定\n",
        "# メニューから「ランタイム」=>「ランタイムタイプの変更」をクリックして　GPUに設定する\n",
        "\n",
        "# google　colabからマウントする\n",
        "from google.colab import drive\n",
        "drive.mount('/content/gdrive', force_remount=True)\n",
        "# authorization code取得して入力する（enterを押すとマウント完了）\n",
        "\n",
        "# 出力メッセージ:\n",
        "# Enter your authorization code:\n",
        "# ··········\n",
        "# Mounted at /content/gdrive"
      ],
      "execution_count": 0,
      "outputs": [
        {
          "output_type": "stream",
          "text": [
            "Go to this URL in a browser: https://accounts.google.com/o/oauth2/auth?client_id=947318989803-6bn6qk8qdgf4n4g3pfee6491hc0brc4i.apps.googleusercontent.com&redirect_uri=urn%3aietf%3awg%3aoauth%3a2.0%3aoob&response_type=code&scope=email%20https%3a%2f%2fwww.googleapis.com%2fauth%2fdocs.test%20https%3a%2f%2fwww.googleapis.com%2fauth%2fdrive%20https%3a%2f%2fwww.googleapis.com%2fauth%2fdrive.photos.readonly%20https%3a%2f%2fwww.googleapis.com%2fauth%2fpeopleapi.readonly\n",
            "\n",
            "Enter your authorization code:\n",
            "··········\n",
            "Mounted at /content/gdrive\n"
          ],
          "name": "stdout"
        }
      ]
    },
    {
      "cell_type": "code",
      "metadata": {
        "id": "D3qL7Icc4oIU",
        "colab_type": "code",
        "outputId": "b12747f4-6f6f-4308-dcb7-19ceb0849704",
        "colab": {
          "base_uri": "https://localhost:8080/",
          "height": 34
        }
      },
      "source": [
        "# GitHubからDreamリポジトリをクローンする（既にクローンしているなら実行不要）\n",
        "!git clone https://github.com/natsutan/dream.git \"/content/gdrive/My Drive/Dream\""
      ],
      "execution_count": 0,
      "outputs": [
        {
          "output_type": "stream",
          "text": [
            "fatal: destination path '/content/gdrive/My Drive/Dream' already exists and is not an empty directory.\n"
          ],
          "name": "stdout"
        }
      ]
    },
    {
      "cell_type": "code",
      "metadata": {
        "id": "Y-fwG2La4zMQ",
        "colab_type": "code",
        "outputId": "f224932b-3af5-470a-bde7-41978ea51f0c",
        "colab": {
          "base_uri": "https://localhost:8080/",
          "height": 34
        }
      },
      "source": [
        "# Git管理されているCSVファイルのディレクトリに移動する\n",
        "%cd /content/gdrive/My Drive/Dream/labelbox/csv"
      ],
      "execution_count": 0,
      "outputs": [
        {
          "output_type": "stream",
          "text": [
            "/content/gdrive/My Drive/Dream/labelbox/csv\n"
          ],
          "name": "stdout"
        }
      ]
    },
    {
      "cell_type": "code",
      "metadata": {
        "id": "J3aa8Frk193r",
        "colab_type": "code",
        "outputId": "162988a8-17a6-474e-970a-67bc529664f2",
        "colab": {
          "base_uri": "https://localhost:8080/",
          "height": 136
        }
      },
      "source": [
        "# ファイル更新（初回実行の場合は不要）\n",
        "!git pull origin master"
      ],
      "execution_count": 0,
      "outputs": [
        {
          "output_type": "stream",
          "text": [
            "From https://github.com/natsutan/dream\n",
            " * branch            master     -> FETCH_HEAD\n",
            "Updating cba57fa..c8cd974\n",
            "Fast-forward\n",
            " labelbox/csv/export.csv   | 2842 \u001b[32m+++++++++++++++++++++++++++++\u001b[m\u001b[31m----------------\u001b[m\n",
            " labelbox/json/export.json | 2842 \u001b[32m+++++++++++++++++++++++++++++\u001b[m\u001b[31m----------------\u001b[m\n",
            " 2 files changed, 3698 insertions(+), 1986 deletions(-)\n"
          ],
          "name": "stdout"
        }
      ]
    },
    {
      "cell_type": "code",
      "metadata": {
        "id": "V0pXqN9NI4bz",
        "colab_type": "code",
        "outputId": "ecf0860b-eb04-45a2-d6ba-c00907040ed1",
        "colab": {
          "base_uri": "https://localhost:8080/",
          "height": 419
        }
      },
      "source": [
        "# CSVファイル展開\n",
        "import pandas as pd\n",
        "import re\n",
        "import json\n",
        "\n",
        "column_name = [\"filename\", \"lists\"]\n",
        "\n",
        "inputdf = pd.read_csv(\"export.csv\")\n",
        "index = list(range(0, inputdf.shape[0])) \n",
        "outdf = pd.DataFrame(index=index, columns=column_name)\n",
        "\n",
        "# 写真のファイル名と各パーツのバウbディングボックスの情報をセット\n",
        "for i in range(inputdf.shape[0]):\n",
        "  json_data = json.loads(inputdf[\"Label\"][i])\n",
        "  if not json_data:\n",
        "    continue\n",
        "\n",
        "  outdf[\"filename\"][i] = re.search(r'(?<=dog.).*?(?=jpg)', inputdf[\"External ID\"][i]).group(0)\n",
        "  outdf[\"lists\"][i] = []\n",
        "\n",
        "  # 各パーツのバウンディングボックス情報をセット\n",
        "  for j, obj in enumerate(json_data['objects']):\n",
        "    d = {}\n",
        "    if (\"bbox\" in obj):\n",
        "      d[\"title\"] = obj[\"value\"]\n",
        "      d.update(**obj[\"bbox\"])\n",
        "      outdf[\"lists\"][i].append(d)\n",
        "\n",
        "outdf\n"
      ],
      "execution_count": 0,
      "outputs": [
        {
          "output_type": "execute_result",
          "data": {
            "text/html": [
              "<div>\n",
              "<style scoped>\n",
              "    .dataframe tbody tr th:only-of-type {\n",
              "        vertical-align: middle;\n",
              "    }\n",
              "\n",
              "    .dataframe tbody tr th {\n",
              "        vertical-align: top;\n",
              "    }\n",
              "\n",
              "    .dataframe thead th {\n",
              "        text-align: right;\n",
              "    }\n",
              "</style>\n",
              "<table border=\"1\" class=\"dataframe\">\n",
              "  <thead>\n",
              "    <tr style=\"text-align: right;\">\n",
              "      <th></th>\n",
              "      <th>filename</th>\n",
              "      <th>lists</th>\n",
              "    </tr>\n",
              "  </thead>\n",
              "  <tbody>\n",
              "    <tr>\n",
              "      <th>0</th>\n",
              "      <td>65.</td>\n",
              "      <td>[{'title': 'dog', 'top': 28, 'left': 93, 'heig...</td>\n",
              "    </tr>\n",
              "    <tr>\n",
              "      <th>1</th>\n",
              "      <td>383.</td>\n",
              "      <td>[{'title': 'left_eye', 'top': 202, 'left': 162...</td>\n",
              "    </tr>\n",
              "    <tr>\n",
              "      <th>2</th>\n",
              "      <td>415.</td>\n",
              "      <td>[{'title': 'dog', 'top': 40, 'left': 120, 'hei...</td>\n",
              "    </tr>\n",
              "    <tr>\n",
              "      <th>3</th>\n",
              "      <td>479.</td>\n",
              "      <td>[{'title': 'dog', 'top': 7, 'left': 0, 'height...</td>\n",
              "    </tr>\n",
              "    <tr>\n",
              "      <th>4</th>\n",
              "      <td>95.</td>\n",
              "      <td>[{'title': 'dog', 'top': 48, 'left': 225, 'hei...</td>\n",
              "    </tr>\n",
              "    <tr>\n",
              "      <th>...</th>\n",
              "      <td>...</td>\n",
              "      <td>...</td>\n",
              "    </tr>\n",
              "    <tr>\n",
              "      <th>1844</th>\n",
              "      <td>1848.</td>\n",
              "      <td>[{'title': 'dog', 'top': 32, 'left': 238, 'hei...</td>\n",
              "    </tr>\n",
              "    <tr>\n",
              "      <th>1845</th>\n",
              "      <td>1880.</td>\n",
              "      <td>[{'title': 'dog', 'top': 16, 'left': 39, 'heig...</td>\n",
              "    </tr>\n",
              "    <tr>\n",
              "      <th>1846</th>\n",
              "      <td>1944.</td>\n",
              "      <td>[{'title': 'left_eye', 'top': 92, 'left': 158,...</td>\n",
              "    </tr>\n",
              "    <tr>\n",
              "      <th>1847</th>\n",
              "      <td>1947.</td>\n",
              "      <td>[{'title': 'dog', 'top': 43, 'left': 43, 'heig...</td>\n",
              "    </tr>\n",
              "    <tr>\n",
              "      <th>1848</th>\n",
              "      <td>1979.</td>\n",
              "      <td>[{'title': 'dog', 'top': 43, 'left': 249, 'hei...</td>\n",
              "    </tr>\n",
              "  </tbody>\n",
              "</table>\n",
              "<p>1849 rows × 2 columns</p>\n",
              "</div>"
            ],
            "text/plain": [
              "     filename                                              lists\n",
              "0         65.  [{'title': 'dog', 'top': 28, 'left': 93, 'heig...\n",
              "1        383.  [{'title': 'left_eye', 'top': 202, 'left': 162...\n",
              "2        415.  [{'title': 'dog', 'top': 40, 'left': 120, 'hei...\n",
              "3        479.  [{'title': 'dog', 'top': 7, 'left': 0, 'height...\n",
              "4         95.  [{'title': 'dog', 'top': 48, 'left': 225, 'hei...\n",
              "...       ...                                                ...\n",
              "1844    1848.  [{'title': 'dog', 'top': 32, 'left': 238, 'hei...\n",
              "1845    1880.  [{'title': 'dog', 'top': 16, 'left': 39, 'heig...\n",
              "1846    1944.  [{'title': 'left_eye', 'top': 92, 'left': 158,...\n",
              "1847    1947.  [{'title': 'dog', 'top': 43, 'left': 43, 'heig...\n",
              "1848    1979.  [{'title': 'dog', 'top': 43, 'left': 249, 'hei...\n",
              "\n",
              "[1849 rows x 2 columns]"
            ]
          },
          "metadata": {
            "tags": []
          },
          "execution_count": 13
        }
      ]
    },
    {
      "cell_type": "code",
      "metadata": {
        "id": "dSl3GEvyK06W",
        "colab_type": "code",
        "outputId": "900474cf-f4ef-4143-e5c2-16e1c70b78f0",
        "colab": {
          "base_uri": "https://localhost:8080/",
          "height": 34
        }
      },
      "source": [
        "'''\n",
        "事前に犬の写真を保存している共有ディレクトリを自分のドライブにショートカット追加する\n",
        "ディレクトリを共有していない場合、共有できるようにしてもらう\n",
        "'''\n",
        "%cd /content/gdrive/My Drive/パソナ/gog_cat/dog"
      ],
      "execution_count": 0,
      "outputs": [
        {
          "output_type": "stream",
          "text": [
            "/content/gdrive/.shortcut-targets-by-id/1aJ9h1h3zJ-qpedHmWDzWbWt_VlTp2utj/gog_cat/dog\n"
          ],
          "name": "stdout"
        }
      ]
    },
    {
      "cell_type": "code",
      "metadata": {
        "id": "FmxH-iu-7jce",
        "colab_type": "code",
        "colab": {}
      },
      "source": [
        "import cv2\n",
        "import glob\n",
        "import numpy as np\n",
        "import os\n",
        "import datetime\n",
        "\n",
        "# テキストファイル出力用のディレクトリを作成する\n",
        "dt_now = datetime.datetime.now()\n",
        "ymdhis = dt_now.strftime('%Y%m%d%H%M%S')\n",
        "dirname = 'txt_' + ymdhis\n",
        "if not os.path.isdir(dirname):\n",
        "  os.mkdir(dirname)\n",
        "\n",
        "#パスにある犬の写真を全て取得する\n",
        "jpglist = (glob.glob(\"dog.*.jpg\"))\n",
        "for i in range(outdf.shape[0]):\n",
        "  photoname = \"dog.{}jpg\".format(outdf[\"filename\"][i])\n",
        "  filename = \"{0}/dog.{1}txt\".format(dirname, outdf[\"filename\"][i])\n",
        "\n",
        "  # リストになければ次へ\n",
        "  if (photoname not in jpglist):\n",
        "    continue\n",
        "\n",
        "  try:\n",
        "    im = cv2.imread(jpglist[i])\n",
        "  except:\n",
        "    im = (500, 500)\n",
        "  im = np.array(im)\n",
        "  image_width = im.shape[1]  \n",
        "  image_height = im.shape[0]\n",
        "  \n",
        "  content = []\n",
        "  for j in outdf[\"lists\"][i]:\n",
        "    # 幅、高さが０.１未満になると警告が出る模様\n",
        "    x_center = str(int(j[\"left\"])/int(image_width))\n",
        "    y_center = str(int(j[\"top\"])/int(image_height))\n",
        "    width = str(int(j[\"width\"])/int(image_width))\n",
        "    height = str(int(j[\"height\"])/int(image_height))\n",
        "    if j[\"title\"] == \"dog\":\n",
        "      content.append(\"0 \"+x_center+\" \"+y_center+\" \"+width+\" \"+height)\n",
        "\n",
        "    if j[\"title\"] == \"left_eye\":\n",
        "      content.append(\"1 \"+x_center+\" \"+y_center+\" \"+width+\" \"+height)\n",
        "\n",
        "    if j[\"title\"] == \"right_eye\":\n",
        "      content.append(\"2 \"+x_center+\" \"+y_center+\" \"+width+\" \"+height)\n",
        "\n",
        "  content.sort()\n",
        "\n",
        "  # テキストファイルに出力\n",
        "  with open(filename, 'w') as f:\n",
        "      f.write('\\n'.join(content))\n"
      ],
      "execution_count": 0,
      "outputs": []
    }
  ]
}